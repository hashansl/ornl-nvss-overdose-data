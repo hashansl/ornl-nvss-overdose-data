{
 "cells": [
  {
   "cell_type": "markdown",
   "metadata": {},
   "source": [
    "#### NVSS Overdose Data Analysis"
   ]
  },
  {
   "cell_type": "code",
   "execution_count": 2,
   "metadata": {},
   "outputs": [],
   "source": [
    "# Import Libraries\n",
    "import numpy as np\n",
    "import pandas as pd"
   ]
  },
  {
   "cell_type": "code",
   "execution_count": 3,
   "metadata": {},
   "outputs": [
    {
     "name": "stderr",
     "output_type": "stream",
     "text": [
      "/tmp/ipykernel_3329655/3684067581.py:1: DtypeWarning: Columns (35) have mixed types. Specify dtype option on import or set low_memory=False.\n",
      "  mort_2018 = pd.read_csv('/home/h6x/git_projects/ornl-nvss-overdose-data/data/raw_data/mort_2018.csv')\n"
     ]
    }
   ],
   "source": [
    "mort_2018 = pd.read_csv('/home/h6x/git_projects/ornl-nvss-overdose-data/data/raw_data/mort_2018.csv')"
   ]
  },
  {
   "cell_type": "code",
   "execution_count": 4,
   "metadata": {},
   "outputs": [
    {
     "data": {
      "text/html": [
       "<div>\n",
       "<style scoped>\n",
       "    .dataframe tbody tr th:only-of-type {\n",
       "        vertical-align: middle;\n",
       "    }\n",
       "\n",
       "    .dataframe tbody tr th {\n",
       "        vertical-align: top;\n",
       "    }\n",
       "\n",
       "    .dataframe thead th {\n",
       "        text-align: right;\n",
       "    }\n",
       "</style>\n",
       "<table border=\"1\" class=\"dataframe\">\n",
       "  <thead>\n",
       "    <tr style=\"text-align: right;\">\n",
       "      <th></th>\n",
       "      <th>record_type</th>\n",
       "      <th>resident_status</th>\n",
       "      <th>occurrence_state</th>\n",
       "      <th>occurrence_county</th>\n",
       "      <th>occurrence_expanded_state</th>\n",
       "      <th>population_size</th>\n",
       "      <th>residence_state</th>\n",
       "      <th>state_country_recode</th>\n",
       "      <th>residence_county</th>\n",
       "      <th>residence_city</th>\n",
       "      <th>...</th>\n",
       "      <th>bridged_race_flag</th>\n",
       "      <th>race_imputation_flag</th>\n",
       "      <th>race_recode_3</th>\n",
       "      <th>race_recode_5</th>\n",
       "      <th>hispanic_origin</th>\n",
       "      <th>hispanic_origin_race_recode</th>\n",
       "      <th>race_recode_40</th>\n",
       "      <th>residence_state_fips</th>\n",
       "      <th>residence_county_fips</th>\n",
       "      <th>year_of_death</th>\n",
       "    </tr>\n",
       "  </thead>\n",
       "  <tbody>\n",
       "    <tr>\n",
       "      <th>0</th>\n",
       "      <td>2</td>\n",
       "      <td>3</td>\n",
       "      <td>AK</td>\n",
       "      <td>20</td>\n",
       "      <td>AK</td>\n",
       "      <td>2</td>\n",
       "      <td>WY</td>\n",
       "      <td>WY</td>\n",
       "      <td>33</td>\n",
       "      <td>99999</td>\n",
       "      <td>...</td>\n",
       "      <td>NaN</td>\n",
       "      <td>NaN</td>\n",
       "      <td>1</td>\n",
       "      <td>1</td>\n",
       "      <td>100</td>\n",
       "      <td>6</td>\n",
       "      <td>1</td>\n",
       "      <td>56.0</td>\n",
       "      <td>56033.0</td>\n",
       "      <td>2018</td>\n",
       "    </tr>\n",
       "    <tr>\n",
       "      <th>1</th>\n",
       "      <td>1</td>\n",
       "      <td>1</td>\n",
       "      <td>AK</td>\n",
       "      <td>20</td>\n",
       "      <td>AK</td>\n",
       "      <td>2</td>\n",
       "      <td>AK</td>\n",
       "      <td>AK</td>\n",
       "      <td>20</td>\n",
       "      <td>3000</td>\n",
       "      <td>...</td>\n",
       "      <td>NaN</td>\n",
       "      <td>NaN</td>\n",
       "      <td>2</td>\n",
       "      <td>3</td>\n",
       "      <td>100</td>\n",
       "      <td>8</td>\n",
       "      <td>3</td>\n",
       "      <td>2.0</td>\n",
       "      <td>2020.0</td>\n",
       "      <td>2018</td>\n",
       "    </tr>\n",
       "    <tr>\n",
       "      <th>2</th>\n",
       "      <td>1</td>\n",
       "      <td>1</td>\n",
       "      <td>AK</td>\n",
       "      <td>170</td>\n",
       "      <td>AK</td>\n",
       "      <td>4</td>\n",
       "      <td>AK</td>\n",
       "      <td>AK</td>\n",
       "      <td>170</td>\n",
       "      <td>99999</td>\n",
       "      <td>...</td>\n",
       "      <td>NaN</td>\n",
       "      <td>NaN</td>\n",
       "      <td>1</td>\n",
       "      <td>1</td>\n",
       "      <td>100</td>\n",
       "      <td>6</td>\n",
       "      <td>1</td>\n",
       "      <td>2.0</td>\n",
       "      <td>2170.0</td>\n",
       "      <td>2018</td>\n",
       "    </tr>\n",
       "    <tr>\n",
       "      <th>3</th>\n",
       "      <td>1</td>\n",
       "      <td>1</td>\n",
       "      <td>AK</td>\n",
       "      <td>20</td>\n",
       "      <td>AK</td>\n",
       "      <td>2</td>\n",
       "      <td>AK</td>\n",
       "      <td>AK</td>\n",
       "      <td>20</td>\n",
       "      <td>3000</td>\n",
       "      <td>...</td>\n",
       "      <td>NaN</td>\n",
       "      <td>NaN</td>\n",
       "      <td>1</td>\n",
       "      <td>1</td>\n",
       "      <td>100</td>\n",
       "      <td>6</td>\n",
       "      <td>1</td>\n",
       "      <td>2.0</td>\n",
       "      <td>2020.0</td>\n",
       "      <td>2018</td>\n",
       "    </tr>\n",
       "    <tr>\n",
       "      <th>4</th>\n",
       "      <td>2</td>\n",
       "      <td>2</td>\n",
       "      <td>AK</td>\n",
       "      <td>20</td>\n",
       "      <td>AK</td>\n",
       "      <td>2</td>\n",
       "      <td>AK</td>\n",
       "      <td>AK</td>\n",
       "      <td>220</td>\n",
       "      <td>99999</td>\n",
       "      <td>...</td>\n",
       "      <td>NaN</td>\n",
       "      <td>NaN</td>\n",
       "      <td>2</td>\n",
       "      <td>3</td>\n",
       "      <td>100</td>\n",
       "      <td>8</td>\n",
       "      <td>3</td>\n",
       "      <td>2.0</td>\n",
       "      <td>2220.0</td>\n",
       "      <td>2018</td>\n",
       "    </tr>\n",
       "    <tr>\n",
       "      <th>5</th>\n",
       "      <td>2</td>\n",
       "      <td>2</td>\n",
       "      <td>AK</td>\n",
       "      <td>240</td>\n",
       "      <td>AK</td>\n",
       "      <td>9</td>\n",
       "      <td>AK</td>\n",
       "      <td>AK</td>\n",
       "      <td>90</td>\n",
       "      <td>99999</td>\n",
       "      <td>...</td>\n",
       "      <td>NaN</td>\n",
       "      <td>NaN</td>\n",
       "      <td>1</td>\n",
       "      <td>1</td>\n",
       "      <td>100</td>\n",
       "      <td>6</td>\n",
       "      <td>1</td>\n",
       "      <td>2.0</td>\n",
       "      <td>2090.0</td>\n",
       "      <td>2018</td>\n",
       "    </tr>\n",
       "    <tr>\n",
       "      <th>6</th>\n",
       "      <td>1</td>\n",
       "      <td>1</td>\n",
       "      <td>AK</td>\n",
       "      <td>90</td>\n",
       "      <td>AK</td>\n",
       "      <td>4</td>\n",
       "      <td>AK</td>\n",
       "      <td>AK</td>\n",
       "      <td>90</td>\n",
       "      <td>99999</td>\n",
       "      <td>...</td>\n",
       "      <td>NaN</td>\n",
       "      <td>NaN</td>\n",
       "      <td>2</td>\n",
       "      <td>3</td>\n",
       "      <td>100</td>\n",
       "      <td>8</td>\n",
       "      <td>3</td>\n",
       "      <td>2.0</td>\n",
       "      <td>2090.0</td>\n",
       "      <td>2018</td>\n",
       "    </tr>\n",
       "    <tr>\n",
       "      <th>7</th>\n",
       "      <td>1</td>\n",
       "      <td>1</td>\n",
       "      <td>AK</td>\n",
       "      <td>261</td>\n",
       "      <td>AK</td>\n",
       "      <td>9</td>\n",
       "      <td>AK</td>\n",
       "      <td>AK</td>\n",
       "      <td>261</td>\n",
       "      <td>99999</td>\n",
       "      <td>...</td>\n",
       "      <td>NaN</td>\n",
       "      <td>NaN</td>\n",
       "      <td>1</td>\n",
       "      <td>1</td>\n",
       "      <td>100</td>\n",
       "      <td>6</td>\n",
       "      <td>1</td>\n",
       "      <td>2.0</td>\n",
       "      <td>2261.0</td>\n",
       "      <td>2018</td>\n",
       "    </tr>\n",
       "    <tr>\n",
       "      <th>8</th>\n",
       "      <td>1</td>\n",
       "      <td>1</td>\n",
       "      <td>AK</td>\n",
       "      <td>122</td>\n",
       "      <td>AK</td>\n",
       "      <td>4</td>\n",
       "      <td>AK</td>\n",
       "      <td>AK</td>\n",
       "      <td>122</td>\n",
       "      <td>99999</td>\n",
       "      <td>...</td>\n",
       "      <td>NaN</td>\n",
       "      <td>NaN</td>\n",
       "      <td>1</td>\n",
       "      <td>1</td>\n",
       "      <td>282</td>\n",
       "      <td>5</td>\n",
       "      <td>1</td>\n",
       "      <td>2.0</td>\n",
       "      <td>2122.0</td>\n",
       "      <td>2018</td>\n",
       "    </tr>\n",
       "    <tr>\n",
       "      <th>9</th>\n",
       "      <td>1</td>\n",
       "      <td>1</td>\n",
       "      <td>AK</td>\n",
       "      <td>90</td>\n",
       "      <td>AK</td>\n",
       "      <td>4</td>\n",
       "      <td>AK</td>\n",
       "      <td>AK</td>\n",
       "      <td>90</td>\n",
       "      <td>99999</td>\n",
       "      <td>...</td>\n",
       "      <td>NaN</td>\n",
       "      <td>NaN</td>\n",
       "      <td>1</td>\n",
       "      <td>1</td>\n",
       "      <td>100</td>\n",
       "      <td>6</td>\n",
       "      <td>1</td>\n",
       "      <td>2.0</td>\n",
       "      <td>2090.0</td>\n",
       "      <td>2018</td>\n",
       "    </tr>\n",
       "    <tr>\n",
       "      <th>10</th>\n",
       "      <td>1</td>\n",
       "      <td>1</td>\n",
       "      <td>AK</td>\n",
       "      <td>90</td>\n",
       "      <td>AK</td>\n",
       "      <td>4</td>\n",
       "      <td>AK</td>\n",
       "      <td>AK</td>\n",
       "      <td>90</td>\n",
       "      <td>99999</td>\n",
       "      <td>...</td>\n",
       "      <td>NaN</td>\n",
       "      <td>NaN</td>\n",
       "      <td>1</td>\n",
       "      <td>1</td>\n",
       "      <td>100</td>\n",
       "      <td>6</td>\n",
       "      <td>1</td>\n",
       "      <td>2.0</td>\n",
       "      <td>2090.0</td>\n",
       "      <td>2018</td>\n",
       "    </tr>\n",
       "    <tr>\n",
       "      <th>11</th>\n",
       "      <td>1</td>\n",
       "      <td>1</td>\n",
       "      <td>AK</td>\n",
       "      <td>122</td>\n",
       "      <td>AK</td>\n",
       "      <td>4</td>\n",
       "      <td>AK</td>\n",
       "      <td>AK</td>\n",
       "      <td>122</td>\n",
       "      <td>99999</td>\n",
       "      <td>...</td>\n",
       "      <td>NaN</td>\n",
       "      <td>NaN</td>\n",
       "      <td>1</td>\n",
       "      <td>1</td>\n",
       "      <td>100</td>\n",
       "      <td>6</td>\n",
       "      <td>1</td>\n",
       "      <td>2.0</td>\n",
       "      <td>2122.0</td>\n",
       "      <td>2018</td>\n",
       "    </tr>\n",
       "    <tr>\n",
       "      <th>12</th>\n",
       "      <td>1</td>\n",
       "      <td>1</td>\n",
       "      <td>AK</td>\n",
       "      <td>90</td>\n",
       "      <td>AK</td>\n",
       "      <td>4</td>\n",
       "      <td>AK</td>\n",
       "      <td>AK</td>\n",
       "      <td>90</td>\n",
       "      <td>99999</td>\n",
       "      <td>...</td>\n",
       "      <td>NaN</td>\n",
       "      <td>NaN</td>\n",
       "      <td>1</td>\n",
       "      <td>1</td>\n",
       "      <td>100</td>\n",
       "      <td>6</td>\n",
       "      <td>1</td>\n",
       "      <td>2.0</td>\n",
       "      <td>2090.0</td>\n",
       "      <td>2018</td>\n",
       "    </tr>\n",
       "    <tr>\n",
       "      <th>13</th>\n",
       "      <td>1</td>\n",
       "      <td>1</td>\n",
       "      <td>AK</td>\n",
       "      <td>20</td>\n",
       "      <td>AK</td>\n",
       "      <td>2</td>\n",
       "      <td>AK</td>\n",
       "      <td>AK</td>\n",
       "      <td>20</td>\n",
       "      <td>3000</td>\n",
       "      <td>...</td>\n",
       "      <td>NaN</td>\n",
       "      <td>NaN</td>\n",
       "      <td>1</td>\n",
       "      <td>1</td>\n",
       "      <td>100</td>\n",
       "      <td>6</td>\n",
       "      <td>1</td>\n",
       "      <td>2.0</td>\n",
       "      <td>2020.0</td>\n",
       "      <td>2018</td>\n",
       "    </tr>\n",
       "    <tr>\n",
       "      <th>14</th>\n",
       "      <td>1</td>\n",
       "      <td>1</td>\n",
       "      <td>AK</td>\n",
       "      <td>20</td>\n",
       "      <td>AK</td>\n",
       "      <td>2</td>\n",
       "      <td>AK</td>\n",
       "      <td>AK</td>\n",
       "      <td>20</td>\n",
       "      <td>3000</td>\n",
       "      <td>...</td>\n",
       "      <td>NaN</td>\n",
       "      <td>NaN</td>\n",
       "      <td>1</td>\n",
       "      <td>1</td>\n",
       "      <td>100</td>\n",
       "      <td>6</td>\n",
       "      <td>1</td>\n",
       "      <td>2.0</td>\n",
       "      <td>2020.0</td>\n",
       "      <td>2018</td>\n",
       "    </tr>\n",
       "    <tr>\n",
       "      <th>15</th>\n",
       "      <td>2</td>\n",
       "      <td>3</td>\n",
       "      <td>AK</td>\n",
       "      <td>122</td>\n",
       "      <td>AK</td>\n",
       "      <td>4</td>\n",
       "      <td>CA</td>\n",
       "      <td>CA</td>\n",
       "      <td>111</td>\n",
       "      <td>54652</td>\n",
       "      <td>...</td>\n",
       "      <td>NaN</td>\n",
       "      <td>NaN</td>\n",
       "      <td>1</td>\n",
       "      <td>1</td>\n",
       "      <td>100</td>\n",
       "      <td>6</td>\n",
       "      <td>1</td>\n",
       "      <td>6.0</td>\n",
       "      <td>6111.0</td>\n",
       "      <td>2018</td>\n",
       "    </tr>\n",
       "    <tr>\n",
       "      <th>16</th>\n",
       "      <td>1</td>\n",
       "      <td>1</td>\n",
       "      <td>AK</td>\n",
       "      <td>20</td>\n",
       "      <td>AK</td>\n",
       "      <td>2</td>\n",
       "      <td>AK</td>\n",
       "      <td>AK</td>\n",
       "      <td>20</td>\n",
       "      <td>3000</td>\n",
       "      <td>...</td>\n",
       "      <td>NaN</td>\n",
       "      <td>NaN</td>\n",
       "      <td>1</td>\n",
       "      <td>1</td>\n",
       "      <td>100</td>\n",
       "      <td>6</td>\n",
       "      <td>1</td>\n",
       "      <td>2.0</td>\n",
       "      <td>2020.0</td>\n",
       "      <td>2018</td>\n",
       "    </tr>\n",
       "    <tr>\n",
       "      <th>17</th>\n",
       "      <td>1</td>\n",
       "      <td>1</td>\n",
       "      <td>AK</td>\n",
       "      <td>20</td>\n",
       "      <td>AK</td>\n",
       "      <td>2</td>\n",
       "      <td>AK</td>\n",
       "      <td>AK</td>\n",
       "      <td>20</td>\n",
       "      <td>3000</td>\n",
       "      <td>...</td>\n",
       "      <td>1.0</td>\n",
       "      <td>NaN</td>\n",
       "      <td>2</td>\n",
       "      <td>3</td>\n",
       "      <td>100</td>\n",
       "      <td>8</td>\n",
       "      <td>19</td>\n",
       "      <td>2.0</td>\n",
       "      <td>2020.0</td>\n",
       "      <td>2018</td>\n",
       "    </tr>\n",
       "    <tr>\n",
       "      <th>18</th>\n",
       "      <td>1</td>\n",
       "      <td>1</td>\n",
       "      <td>AK</td>\n",
       "      <td>20</td>\n",
       "      <td>AK</td>\n",
       "      <td>2</td>\n",
       "      <td>AK</td>\n",
       "      <td>AK</td>\n",
       "      <td>20</td>\n",
       "      <td>3000</td>\n",
       "      <td>...</td>\n",
       "      <td>NaN</td>\n",
       "      <td>NaN</td>\n",
       "      <td>1</td>\n",
       "      <td>1</td>\n",
       "      <td>260</td>\n",
       "      <td>2</td>\n",
       "      <td>1</td>\n",
       "      <td>2.0</td>\n",
       "      <td>2020.0</td>\n",
       "      <td>2018</td>\n",
       "    </tr>\n",
       "    <tr>\n",
       "      <th>19</th>\n",
       "      <td>1</td>\n",
       "      <td>1</td>\n",
       "      <td>AK</td>\n",
       "      <td>90</td>\n",
       "      <td>AK</td>\n",
       "      <td>4</td>\n",
       "      <td>AK</td>\n",
       "      <td>AK</td>\n",
       "      <td>90</td>\n",
       "      <td>99999</td>\n",
       "      <td>...</td>\n",
       "      <td>NaN</td>\n",
       "      <td>NaN</td>\n",
       "      <td>1</td>\n",
       "      <td>1</td>\n",
       "      <td>100</td>\n",
       "      <td>6</td>\n",
       "      <td>1</td>\n",
       "      <td>2.0</td>\n",
       "      <td>2090.0</td>\n",
       "      <td>2018</td>\n",
       "    </tr>\n",
       "  </tbody>\n",
       "</table>\n",
       "<p>20 rows × 59 columns</p>\n",
       "</div>"
      ],
      "text/plain": [
       "    record_type  resident_status occurrence_state  occurrence_county  \\\n",
       "0             2                3               AK                 20   \n",
       "1             1                1               AK                 20   \n",
       "2             1                1               AK                170   \n",
       "3             1                1               AK                 20   \n",
       "4             2                2               AK                 20   \n",
       "5             2                2               AK                240   \n",
       "6             1                1               AK                 90   \n",
       "7             1                1               AK                261   \n",
       "8             1                1               AK                122   \n",
       "9             1                1               AK                 90   \n",
       "10            1                1               AK                 90   \n",
       "11            1                1               AK                122   \n",
       "12            1                1               AK                 90   \n",
       "13            1                1               AK                 20   \n",
       "14            1                1               AK                 20   \n",
       "15            2                3               AK                122   \n",
       "16            1                1               AK                 20   \n",
       "17            1                1               AK                 20   \n",
       "18            1                1               AK                 20   \n",
       "19            1                1               AK                 90   \n",
       "\n",
       "   occurrence_expanded_state  population_size residence_state  \\\n",
       "0                         AK                2              WY   \n",
       "1                         AK                2              AK   \n",
       "2                         AK                4              AK   \n",
       "3                         AK                2              AK   \n",
       "4                         AK                2              AK   \n",
       "5                         AK                9              AK   \n",
       "6                         AK                4              AK   \n",
       "7                         AK                9              AK   \n",
       "8                         AK                4              AK   \n",
       "9                         AK                4              AK   \n",
       "10                        AK                4              AK   \n",
       "11                        AK                4              AK   \n",
       "12                        AK                4              AK   \n",
       "13                        AK                2              AK   \n",
       "14                        AK                2              AK   \n",
       "15                        AK                4              CA   \n",
       "16                        AK                2              AK   \n",
       "17                        AK                2              AK   \n",
       "18                        AK                2              AK   \n",
       "19                        AK                4              AK   \n",
       "\n",
       "   state_country_recode  residence_county  residence_city  ...  \\\n",
       "0                    WY                33           99999  ...   \n",
       "1                    AK                20            3000  ...   \n",
       "2                    AK               170           99999  ...   \n",
       "3                    AK                20            3000  ...   \n",
       "4                    AK               220           99999  ...   \n",
       "5                    AK                90           99999  ...   \n",
       "6                    AK                90           99999  ...   \n",
       "7                    AK               261           99999  ...   \n",
       "8                    AK               122           99999  ...   \n",
       "9                    AK                90           99999  ...   \n",
       "10                   AK                90           99999  ...   \n",
       "11                   AK               122           99999  ...   \n",
       "12                   AK                90           99999  ...   \n",
       "13                   AK                20            3000  ...   \n",
       "14                   AK                20            3000  ...   \n",
       "15                   CA               111           54652  ...   \n",
       "16                   AK                20            3000  ...   \n",
       "17                   AK                20            3000  ...   \n",
       "18                   AK                20            3000  ...   \n",
       "19                   AK                90           99999  ...   \n",
       "\n",
       "   bridged_race_flag  race_imputation_flag race_recode_3 race_recode_5  \\\n",
       "0                NaN                   NaN             1             1   \n",
       "1                NaN                   NaN             2             3   \n",
       "2                NaN                   NaN             1             1   \n",
       "3                NaN                   NaN             1             1   \n",
       "4                NaN                   NaN             2             3   \n",
       "5                NaN                   NaN             1             1   \n",
       "6                NaN                   NaN             2             3   \n",
       "7                NaN                   NaN             1             1   \n",
       "8                NaN                   NaN             1             1   \n",
       "9                NaN                   NaN             1             1   \n",
       "10               NaN                   NaN             1             1   \n",
       "11               NaN                   NaN             1             1   \n",
       "12               NaN                   NaN             1             1   \n",
       "13               NaN                   NaN             1             1   \n",
       "14               NaN                   NaN             1             1   \n",
       "15               NaN                   NaN             1             1   \n",
       "16               NaN                   NaN             1             1   \n",
       "17               1.0                   NaN             2             3   \n",
       "18               NaN                   NaN             1             1   \n",
       "19               NaN                   NaN             1             1   \n",
       "\n",
       "   hispanic_origin  hispanic_origin_race_recode  race_recode_40  \\\n",
       "0              100                            6               1   \n",
       "1              100                            8               3   \n",
       "2              100                            6               1   \n",
       "3              100                            6               1   \n",
       "4              100                            8               3   \n",
       "5              100                            6               1   \n",
       "6              100                            8               3   \n",
       "7              100                            6               1   \n",
       "8              282                            5               1   \n",
       "9              100                            6               1   \n",
       "10             100                            6               1   \n",
       "11             100                            6               1   \n",
       "12             100                            6               1   \n",
       "13             100                            6               1   \n",
       "14             100                            6               1   \n",
       "15             100                            6               1   \n",
       "16             100                            6               1   \n",
       "17             100                            8              19   \n",
       "18             260                            2               1   \n",
       "19             100                            6               1   \n",
       "\n",
       "    residence_state_fips  residence_county_fips year_of_death  \n",
       "0                   56.0                56033.0          2018  \n",
       "1                    2.0                 2020.0          2018  \n",
       "2                    2.0                 2170.0          2018  \n",
       "3                    2.0                 2020.0          2018  \n",
       "4                    2.0                 2220.0          2018  \n",
       "5                    2.0                 2090.0          2018  \n",
       "6                    2.0                 2090.0          2018  \n",
       "7                    2.0                 2261.0          2018  \n",
       "8                    2.0                 2122.0          2018  \n",
       "9                    2.0                 2090.0          2018  \n",
       "10                   2.0                 2090.0          2018  \n",
       "11                   2.0                 2122.0          2018  \n",
       "12                   2.0                 2090.0          2018  \n",
       "13                   2.0                 2020.0          2018  \n",
       "14                   2.0                 2020.0          2018  \n",
       "15                   6.0                 6111.0          2018  \n",
       "16                   2.0                 2020.0          2018  \n",
       "17                   2.0                 2020.0          2018  \n",
       "18                   2.0                 2020.0          2018  \n",
       "19                   2.0                 2090.0          2018  \n",
       "\n",
       "[20 rows x 59 columns]"
      ]
     },
     "execution_count": 4,
     "metadata": {},
     "output_type": "execute_result"
    }
   ],
   "source": [
    "mort_2018.head(20)"
   ]
  },
  {
   "cell_type": "code",
   "execution_count": 5,
   "metadata": {},
   "outputs": [
    {
     "data": {
      "text/plain": [
       "(2846305, 59)"
      ]
     },
     "execution_count": 5,
     "metadata": {},
     "output_type": "execute_result"
    }
   ],
   "source": [
    "mort_2018.shape"
   ]
  },
  {
   "cell_type": "code",
   "execution_count": 6,
   "metadata": {},
   "outputs": [
    {
     "data": {
      "text/plain": [
       "array(['AK', 'AL', 'AR', 'AZ', 'CA', 'CO', 'CT', 'DC', 'DE', 'FL', 'GA',\n",
       "       'HI', 'IA', 'ID', 'IL', 'IN', 'KS', 'KY', 'LA', 'MA', 'MD', 'ME',\n",
       "       'MI', 'MN', 'MO', 'MS', 'MT', 'NC', 'ND', 'NE', 'NH', 'NJ', 'NM',\n",
       "       'NV', 'NY', 'OH', 'OK', 'OR', 'PA', 'RI', 'SC', 'SD', 'TN', 'TX',\n",
       "       'UT', 'VA', 'VT', 'WA', 'WI', 'WV', 'WY'], dtype=object)"
      ]
     },
     "execution_count": 6,
     "metadata": {},
     "output_type": "execute_result"
    }
   ],
   "source": [
    "mort_2018['occurrence_state'].unique()"
   ]
  },
  {
   "cell_type": "code",
   "execution_count": 7,
   "metadata": {},
   "outputs": [
    {
     "data": {
      "text/plain": [
       "51"
      ]
     },
     "execution_count": 7,
     "metadata": {},
     "output_type": "execute_result"
    }
   ],
   "source": [
    "len(mort_2018['occurrence_state'].unique())"
   ]
  },
  {
   "cell_type": "code",
   "execution_count": 8,
   "metadata": {},
   "outputs": [],
   "source": [
    "tn_mort_2018 = mort_2018[mort_2018['occurrence_state'] == 'TN']"
   ]
  },
  {
   "cell_type": "code",
   "execution_count": 9,
   "metadata": {},
   "outputs": [
    {
     "data": {
      "text/plain": [
       "(74850, 59)"
      ]
     },
     "execution_count": 9,
     "metadata": {},
     "output_type": "execute_result"
    }
   ],
   "source": [
    "tn_mort_2018.shape"
   ]
  },
  {
   "cell_type": "code",
   "execution_count": 12,
   "metadata": {},
   "outputs": [
    {
     "data": {
      "text/plain": [
       "array([119,  37,  93,  79, 149,  31, 187, 165,  59,   3,  11,  65, 117,\n",
       "       183,  99,   9,  43,  13,  51, 147,  73,  41,  63, 163, 189, 159,\n",
       "       115, 135, 113,  17, 105,  19,   1,  53, 179,  89,  25, 153,  29,\n",
       "       185, 177, 167,  21, 173, 125,  39, 145, 157,   7, 155,  55,  35,\n",
       "        61,  85, 103,   5, 131, 181,  87,  71,  57, 143,  27, 111,  77,\n",
       "       107, 129,  23, 141, 151, 101, 123, 161, 133,  83, 109,  97,  15,\n",
       "        45,  75, 139,  81, 127,  47,  91, 171,  69, 137,  49,  33, 169,\n",
       "       121,  67,  95, 175])"
      ]
     },
     "execution_count": 12,
     "metadata": {},
     "output_type": "execute_result"
    }
   ],
   "source": [
    "tn_mort_2018['occurrence_county'].unique()"
   ]
  },
  {
   "cell_type": "code",
   "execution_count": 13,
   "metadata": {},
   "outputs": [
    {
     "data": {
      "text/plain": [
       "95"
      ]
     },
     "execution_count": 13,
     "metadata": {},
     "output_type": "execute_result"
    }
   ],
   "source": [
    "len(tn_mort_2018['occurrence_county'].unique())"
   ]
  },
  {
   "cell_type": "code",
   "execution_count": 14,
   "metadata": {},
   "outputs": [],
   "source": [
    "# get column names to a list\n",
    "\n",
    "col_names = tn_mort_2018.columns.tolist()"
   ]
  },
  {
   "cell_type": "code",
   "execution_count": 15,
   "metadata": {},
   "outputs": [
    {
     "data": {
      "text/plain": [
       "['record_type',\n",
       " 'resident_status',\n",
       " 'occurrence_state',\n",
       " 'occurrence_county',\n",
       " 'occurrence_expanded_state',\n",
       " 'population_size',\n",
       " 'residence_state',\n",
       " 'state_country_recode',\n",
       " 'residence_county',\n",
       " 'residence_city',\n",
       " 'residence_city_population_size',\n",
       " 'residence_met_nonmet_county',\n",
       " 'residence_expanded_state',\n",
       " 'state_of_birth',\n",
       " 'state_of_birth_recode',\n",
       " 'education_1989_revision',\n",
       " 'education_2003_revision',\n",
       " 'education_reporting_flag',\n",
       " 'month_of_death',\n",
       " 'sex',\n",
       " 'detail_age',\n",
       " 'age_substitution_flag',\n",
       " 'age_recode_52',\n",
       " 'age_recode_27',\n",
       " 'age_recode_12',\n",
       " 'infant_age_recode_22',\n",
       " 'place_of_death',\n",
       " 'marital_status',\n",
       " 'day_of_week',\n",
       " 'current_data_year',\n",
       " 'injury_at_work',\n",
       " 'manner_of_death',\n",
       " 'method_of_disposition',\n",
       " 'autopsy',\n",
       " 'certifier',\n",
       " 'tobacco_use_contributed',\n",
       " 'pregnancy_status',\n",
       " 'activity_code',\n",
       " 'place_of_injury',\n",
       " 'cause of death_icd10',\n",
       " 'cause_recode_358',\n",
       " 'cause_recode_113',\n",
       " 'infant_cause_recode_130',\n",
       " 'cause_recode_39',\n",
       " 'number_entity_axis_conditions',\n",
       " 'entity_axis_conditions',\n",
       " 'number_record_axis_conditions',\n",
       " 'record_axis_conditions',\n",
       " 'race',\n",
       " 'bridged_race_flag',\n",
       " 'race_imputation_flag',\n",
       " 'race_recode_3',\n",
       " 'race_recode_5',\n",
       " 'hispanic_origin',\n",
       " 'hispanic_origin_race_recode',\n",
       " 'race_recode_40',\n",
       " 'residence_state_fips',\n",
       " 'residence_county_fips',\n",
       " 'year_of_death']"
      ]
     },
     "execution_count": 15,
     "metadata": {},
     "output_type": "execute_result"
    }
   ],
   "source": [
    "col_names"
   ]
  },
  {
   "cell_type": "code",
   "execution_count": 18,
   "metadata": {},
   "outputs": [
    {
     "data": {
      "text/plain": [
       "array([ 1,  2,  3,  4,  5,  6,  7,  8,  9, 10, 11, 12])"
      ]
     },
     "execution_count": 18,
     "metadata": {},
     "output_type": "execute_result"
    }
   ],
   "source": [
    "tn_mort_2018['month_of_death'].unique()"
   ]
  },
  {
   "cell_type": "code",
   "execution_count": 21,
   "metadata": {},
   "outputs": [
    {
     "data": {
      "text/plain": [
       "occurrence_county\n",
       "157    10327\n",
       "37      9381\n",
       "93      6709\n",
       "65      5410\n",
       "163     3130\n",
       "       ...  \n",
       "127       64\n",
       "67        64\n",
       "95        62\n",
       "175       53\n",
       "137       50\n",
       "Name: count, Length: 95, dtype: int64"
      ]
     },
     "execution_count": 21,
     "metadata": {},
     "output_type": "execute_result"
    }
   ],
   "source": [
    "# get the record count for each \"occurrence_county\"\n",
    "\n",
    "tn_mort_2018['occurrence_county'].value_counts()"
   ]
  },
  {
   "cell_type": "code",
   "execution_count": 22,
   "metadata": {},
   "outputs": [
    {
     "data": {
      "text/plain": [
       "array(['F', 'M'], dtype=object)"
      ]
     },
     "execution_count": 22,
     "metadata": {},
     "output_type": "execute_result"
    }
   ],
   "source": [
    "tn_mort_2018['sex'].unique()"
   ]
  },
  {
   "cell_type": "code",
   "execution_count": 23,
   "metadata": {},
   "outputs": [
    {
     "data": {
      "text/plain": [
       "array([1094, 1097, 1063, 1076, 1090, 1054, 1080, 1068, 1060, 1079, 1045,\n",
       "       1038, 1083, 1078, 1028, 1059, 1067, 1082, 1075, 1074, 1087, 1072,\n",
       "       1069, 1070, 1040, 1091, 1073, 1089, 1056, 1092, 1057, 1085, 1084,\n",
       "       1077, 1055, 1088, 1064, 1046, 1103, 1086, 1025, 1071, 1096, 1027,\n",
       "       1095, 1065, 1022, 1081, 1098, 1048, 1050, 1034, 1023, 1018, 1044,\n",
       "       1061, 1052, 1009, 1053, 1058, 1093, 1102, 1066, 1051, 1042, 1062,\n",
       "       1026, 1035, 1029, 2004, 1031, 1049, 1036, 1101, 1037, 1014, 1033,\n",
       "       1041, 4012, 1047, 1039, 1013, 1099, 1019, 1021, 1043, 1020, 1032,\n",
       "       2002, 1015, 1030, 1100, 1024, 1104, 1017, 2001, 1002, 1016, 1012,\n",
       "       1008, 1006, 2003, 1003, 1107, 1007, 5001, 5002, 1005, 4017, 5003,\n",
       "       5018, 6022, 1106, 2011, 4007, 1110, 1001, 4015, 2009, 2008, 1105,\n",
       "       1004, 4003, 1010, 2006, 5009, 4009, 6010, 4023, 5011, 4001, 6034,\n",
       "       1011, 4013, 4010, 6055, 4025, 4008, 4005, 6003, 5023, 4006, 5022,\n",
       "       4002, 6032, 6001, 2007, 2005, 6011, 4021, 4020, 5006, 6005, 4022,\n",
       "       6020, 4016, 2010, 5020, 5013, 4014, 6030, 5004, 6040, 6039, 6027,\n",
       "       5021, 5999, 6035, 1108, 5007, 6050, 6013, 5008, 6051, 6015, 6047,\n",
       "       6031, 6026, 4004, 5005, 9999, 6024, 4019, 5012, 6016, 4018, 4011,\n",
       "       4024, 6009, 4027, 5015, 6058, 1112, 6002, 5010, 1109, 5017, 6004,\n",
       "       6043, 6036, 6045, 4026, 6029, 1999, 6018, 6054, 6021])"
      ]
     },
     "execution_count": 23,
     "metadata": {},
     "output_type": "execute_result"
    }
   ],
   "source": [
    "tn_mort_2018['detail_age'].unique()"
   ]
  },
  {
   "cell_type": "code",
   "execution_count": 24,
   "metadata": {},
   "outputs": [
    {
     "data": {
      "text/plain": [
       "array([4, 1, 5, 2, 6, 7, 3])"
      ]
     },
     "execution_count": 24,
     "metadata": {},
     "output_type": "execute_result"
    }
   ],
   "source": [
    "tn_mort_2018['place_of_death'].unique()"
   ]
  },
  {
   "cell_type": "code",
   "execution_count": 25,
   "metadata": {},
   "outputs": [
    {
     "data": {
      "text/plain": [
       "array(['M', 'W', 'S', 'D', 'U'], dtype=object)"
      ]
     },
     "execution_count": 25,
     "metadata": {},
     "output_type": "execute_result"
    }
   ],
   "source": [
    "tn_mort_2018['marital_status'].unique()"
   ]
  },
  {
   "cell_type": "code",
   "execution_count": 26,
   "metadata": {},
   "outputs": [
    {
     "data": {
      "text/plain": [
       "array([7., 2., 1., 3., 4., 5.])"
      ]
     },
     "execution_count": 26,
     "metadata": {},
     "output_type": "execute_result"
    }
   ],
   "source": [
    "tn_mort_2018['manner_of_death'].unique()"
   ]
  },
  {
   "cell_type": "code",
   "execution_count": null,
   "metadata": {},
   "outputs": [],
   "source": [
    "tn_mort_2018['manner_of_death'].unique()"
   ]
  },
  {
   "cell_type": "code",
   "execution_count": null,
   "metadata": {},
   "outputs": [],
   "source": [
    "tn_mort_2018['manner_of_death'].unique()"
   ]
  },
  {
   "cell_type": "code",
   "execution_count": null,
   "metadata": {},
   "outputs": [],
   "source": [
    "tn_mort_2018['manner_of_death'].unique()"
   ]
  },
  {
   "cell_type": "code",
   "execution_count": null,
   "metadata": {},
   "outputs": [],
   "source": [
    "tn_mort_2018['manner_of_death'].unique()"
   ]
  },
  {
   "cell_type": "code",
   "execution_count": null,
   "metadata": {},
   "outputs": [],
   "source": []
  },
  {
   "cell_type": "code",
   "execution_count": null,
   "metadata": {},
   "outputs": [],
   "source": []
  },
  {
   "cell_type": "code",
   "execution_count": null,
   "metadata": {},
   "outputs": [],
   "source": []
  },
  {
   "cell_type": "code",
   "execution_count": null,
   "metadata": {},
   "outputs": [],
   "source": []
  }
 ],
 "metadata": {
  "kernelspec": {
   "display_name": "pytorch_env",
   "language": "python",
   "name": "python3"
  },
  "language_info": {
   "codemirror_mode": {
    "name": "ipython",
    "version": 3
   },
   "file_extension": ".py",
   "mimetype": "text/x-python",
   "name": "python",
   "nbconvert_exporter": "python",
   "pygments_lexer": "ipython3",
   "version": "3.12.3"
  }
 },
 "nbformat": 4,
 "nbformat_minor": 2
}
